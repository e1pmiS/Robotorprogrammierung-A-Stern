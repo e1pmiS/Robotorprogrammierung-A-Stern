{
 "cells": [
  {
   "cell_type": "markdown",
   "id": "d07ba628-123d-42c0-bf4a-06a1bf5a885a",
   "metadata": {},
   "source": [
    "Example Profiling\n",
    "==============================\n",
    "\n",
    "\n",
    "\n",
    "Example using cProfile/pstats\n",
    "-----------------------------\n",
    "\n",
    "Following an example how to profile the algorithm using https://docs.python.org/3/library/profile.html\n"
   ]
  },
  {
   "cell_type": "code",
   "execution_count": null,
   "id": "6866714d-538a-48eb-ad09-14a50de4697c",
   "metadata": {
    "collapsed": false,
    "jupyter": {
     "outputs_hidden": false
    }
   },
   "outputs": [],
   "source": [
    "from IPAStar import AStar\n",
    "from IPVISAStar import aStarVisualize\n",
    "import IPTestSuiteWS2223\n",
    "\n",
    "from matplotlib import pylab as plt\n",
    "\n",
    "benchList = IPTestSuiteWS2223.benchList\n",
    "\n",
    "# AStar and first environment\n",
    "astar = AStar(benchList[0].collisionChecker)\n",
    "astarConfig = dict()\n",
    "astarConfig[\"w\"] = 0.5\n",
    "astarConfig[\"heuristic\"]  = \"manhattan\"\n",
    "\n",
    "start = benchList[0].startList\n",
    "goal = benchList[0].goalList\n",
    "\n",
    "# Executing the planning. Stats data will be saved in astarstats\n",
    "import cProfile\n",
    "cProfile.run('solution = solution = astar.planPath(start, goal, astarConfig)','astartstats') # will save astartstats to current directory\n",
    "\n",
    "    \n",
    "# utility functions to read and access data in astartstats\n",
    "import pstats\n",
    "from pstats import SortKey\n",
    "\n",
    "p = pstats.Stats('astartstats')\n",
    "p.strip_dirs().sort_stats(SortKey.CUMULATIVE).print_stats()\n",
    "p.sort_stats(SortKey.CUMULATIVE).print_stats(15)\n",
    "p.sort_stats(SortKey.CALLS).print_stats(15)\n",
    "p.sort_stats(SortKey.TIME).print_stats(15)\n",
    "\n",
    "fig_local = plt.figure(figsize=(10,10))\n",
    "ax = fig_local.add_subplot(1,1,1)\n",
    "aStarVisualize(astar, solution, ax = ax)\n"
   ]
  },
  {
   "cell_type": "markdown",
   "id": "5fe3a3f3-5a7e-42ea-a446-b4a120411f29",
   "metadata": {
    "tags": []
   },
   "source": [
    "Example using IPerfMonitor\n",
    "--------------------------"
   ]
  },
  {
   "cell_type": "code",
   "execution_count": null,
   "id": "39d219d4-9c65-4eb3-b520-9c25414296b2",
   "metadata": {},
   "outputs": [],
   "source": [
    "from IPPerfMonitor import IPPerfMonitor"
   ]
  },
  {
   "cell_type": "code",
   "execution_count": null,
   "id": "09e99076-2957-4076-9c7d-0f90be63a4bb",
   "metadata": {},
   "outputs": [],
   "source": [
    "\n",
    "\n",
    "\n",
    "benchList = IPTestSuiteWS2223.benchList\n",
    "\n",
    "# AStar and first environment\n",
    "astar = AStar(benchList[0].collisionChecker)\n",
    "astarConfig = dict()\n",
    "astarConfig[\"w\"] = 0.5\n",
    "astarConfig[\"heuristic\"]  = \"manhattan\"\n",
    "\n",
    "start = benchList[0].startList\n",
    "goal = benchList[0].goalList\n",
    "\n",
    "IPPerfMonitor.clearData()\n",
    "solution = astar.planPath(start, goal, astarConfig)\n",
    "data_frame = IPPerfMonitor.dataFrame()\n",
    "\n",
    "fig_local = plt.figure(figsize=(10,10))\n",
    "ax = fig_local.add_subplot(1,1,1)\n",
    "aStarVisualize(astar, solution, ax = ax)"
   ]
  },
  {
   "cell_type": "code",
   "execution_count": null,
   "id": "e2bf0fe1-4908-4895-a17a-7fe5557aa52c",
   "metadata": {},
   "outputs": [],
   "source": [
    "data_frame"
   ]
  },
  {
   "cell_type": "code",
   "execution_count": null,
   "id": "51bed6dc-8456-413e-b978-6b15084daba8",
   "metadata": {},
   "outputs": [],
   "source": [
    "data_frame.groupby([\"name\"]).sum(numeric_only=True)"
   ]
  },
  {
   "cell_type": "code",
   "execution_count": null,
   "id": "a8c2aadc-dcd7-43bb-b282-3b4040306f80",
   "metadata": {},
   "outputs": [],
   "source": [
    "data_frame.groupby([\"name\"]).count()"
   ]
  },
  {
   "cell_type": "code",
   "execution_count": null,
   "id": "777a60f9-c90c-45b0-ac4e-19f89aa36f49",
   "metadata": {},
   "outputs": [],
   "source": [
    "data_frame[data_frame[\"name\"]==\"pointInCollision\"][data_frame[\"retVal\"]==False].count()"
   ]
  },
  {
   "cell_type": "markdown",
   "id": "d8666ada-8cde-4075-b7d8-49ef38b5e2c1",
   "metadata": {},
   "source": [
    "Second Example using IPPerfMonitor\n",
    "----------------------------------"
   ]
  },
  {
   "cell_type": "code",
   "execution_count": null,
   "id": "2a70b89b-fbf8-439e-96c9-fabf4d3d58b0",
   "metadata": {},
   "outputs": [],
   "source": [
    "import IPVisibilityPRM\n",
    "import IPVISVisibilityPRM"
   ]
  },
  {
   "cell_type": "code",
   "execution_count": null,
   "id": "0d518867-bbfc-4b28-9119-f82494c876ce",
   "metadata": {},
   "outputs": [],
   "source": [
    "\n",
    "visbilityConfig = dict()\n",
    "visbilityConfig[\"ntry\"] = 300\n",
    "\n",
    "vis = IPVisibilityPRM.VisPRM(benchList[3].collisionChecker)\n",
    "\n",
    "start = benchList[3].startList\n",
    "goal = benchList[3].goalList\n",
    "\n",
    "IPPerfMonitor.clearData()\n",
    "solution = vis.planPath(start, goal, visbilityConfig)\n",
    "data_frame = IPPerfMonitor.dataFrame()\n",
    "\n",
    "fig_local = plt.figure(figsize=(10,10))\n",
    "ax = fig_local.add_subplot(1,1,1)\n",
    "IPVISVisibilityPRM.visibilityPRMVisualize(vis, solution, ax = ax)"
   ]
  },
  {
   "cell_type": "code",
   "execution_count": null,
   "id": "f25b6cc2-b756-44c2-ac2e-5fdf96ee1669",
   "metadata": {},
   "outputs": [],
   "source": [
    "data_frame"
   ]
  },
  {
   "cell_type": "code",
   "execution_count": null,
   "id": "472966ab-87ca-423b-afbb-86e07eb3530d",
   "metadata": {},
   "outputs": [],
   "source": [
    "data_frame.groupby([\"name\"]).count()"
   ]
  },
  {
   "cell_type": "code",
   "execution_count": null,
   "id": "b26dcbfa-9ad2-4a26-973d-2f730afe7834",
   "metadata": {
    "tags": []
   },
   "outputs": [],
   "source": [
    "data_frame.groupby([\"name\"]).sum(numeric_only=True)"
   ]
  },
  {
   "cell_type": "markdown",
   "id": "a52a48fa-548c-4664-816d-391b523d9a5e",
   "metadata": {},
   "source": [
    "Third example ...\n",
    "-----------------"
   ]
  },
  {
   "cell_type": "code",
   "execution_count": null,
   "id": "03f96276-28e7-4233-a432-b70f68e62398",
   "metadata": {},
   "outputs": [],
   "source": [
    "import IPRRT\n",
    "import IPVISRRT\n",
    "\n",
    "rrtSimpleConfig = dict()\n",
    "rrtSimpleConfig[\"numberOfGeneratedNodes\"] = 100 \n",
    "rrtSimpleConfig[\"testGoalAfterNumberOfNodes\"]  = 10\n"
   ]
  },
  {
   "cell_type": "code",
   "execution_count": null,
   "id": "f4536d5b-e0e8-4e70-b0c7-22916a29df2d",
   "metadata": {},
   "outputs": [],
   "source": [
    "\n",
    "\n",
    "rrt = IPRRT.RRTSimple(benchList[3].collisionChecker)\n",
    "\n",
    "start = benchList[3].startList\n",
    "goal = benchList[3].goalList\n",
    "\n",
    "IPPerfMonitor.clearData()\n",
    "solution = rrt.planPath(start, goal, rrtSimpleConfig)\n",
    "data_frame = IPPerfMonitor.dataFrame()\n",
    "\n",
    "fig_local = plt.figure(figsize=(10,10))\n",
    "ax = fig_local.add_subplot(1,1,1)\n",
    "IPVISRRT.rrtPRMVisualize(rrt, solution, ax = ax)"
   ]
  },
  {
   "cell_type": "code",
   "execution_count": null,
   "id": "149856cc-1f3f-4ced-838f-f285d02c1f44",
   "metadata": {},
   "outputs": [],
   "source": [
    "data_frame"
   ]
  },
  {
   "cell_type": "code",
   "execution_count": null,
   "id": "1e8b4ca5-fa93-4cc5-bc27-ba0afcb91c89",
   "metadata": {},
   "outputs": [],
   "source": [
    "data_frame.groupby([\"name\"]).count()"
   ]
  },
  {
   "cell_type": "code",
   "execution_count": null,
   "id": "92d54500-f0e9-4216-9e21-1ec34d5d4258",
   "metadata": {},
   "outputs": [],
   "source": [
    "data_frame.groupby([\"name\"]).sum(numeric_only=True)"
   ]
  }
 ],
 "metadata": {
  "kernelspec": {
   "display_name": "Python 3 (ipykernel)",
   "language": "python",
   "name": "python3"
  },
  "language_info": {
   "codemirror_mode": {
    "name": "ipython",
    "version": 3
   },
   "file_extension": ".py",
   "mimetype": "text/x-python",
   "name": "python",
   "nbconvert_exporter": "python",
   "pygments_lexer": "ipython3",
   "version": "3.10.6"
  }
 },
 "nbformat": 4,
 "nbformat_minor": 5
}
